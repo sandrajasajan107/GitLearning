{
 "cells": [
  {
   "cell_type": "code",
   "execution_count": 1,
   "metadata": {},
   "outputs": [
    {
     "name": "stdout",
     "output_type": "stream",
     "text": [
      "hello\n"
     ]
    }
   ],
   "source": [
    "print(\"hello\")"
   ]
  },
  {
   "cell_type": "code",
   "execution_count": 2,
   "metadata": {},
   "outputs": [
    {
     "name": "stdout",
     "output_type": "stream",
     "text": [
      "2316\n"
     ]
    }
   ],
   "source": [
    "a=10\n",
    "b=20\n",
    "var1=input(\"enter a number:\")\n",
    "var2=input(\"enter another number:\")\n",
    "print(var1+var2)"
   ]
  },
  {
   "cell_type": "code",
   "execution_count": 4,
   "metadata": {},
   "outputs": [
    {
     "name": "stdout",
     "output_type": "stream",
     "text": [
      "[ 2  4  6  8 10]\n"
     ]
    },
    {
     "data": {
      "text/plain": [
       "1"
      ]
     },
     "execution_count": 4,
     "metadata": {},
     "output_type": "execute_result"
    }
   ],
   "source": [
    "import numpy as np\n",
    "arr1=np.array([2,4,6,8,10])\n",
    "print(arr1)\n",
    "arr1.ndim\n",
    "\n"
   ]
  },
  {
   "cell_type": "code",
   "execution_count": 5,
   "metadata": {},
   "outputs": [
    {
     "data": {
      "text/plain": [
       "array([ 3,  5,  7,  9, 11])"
      ]
     },
     "execution_count": 5,
     "metadata": {},
     "output_type": "execute_result"
    }
   ],
   "source": [
    "arr1+1"
   ]
  },
  {
   "cell_type": "code",
   "execution_count": 6,
   "metadata": {},
   "outputs": [
    {
     "data": {
      "text/plain": [
       "array([ 2,  4,  6,  8, 10])"
      ]
     },
     "execution_count": 6,
     "metadata": {},
     "output_type": "execute_result"
    }
   ],
   "source": [
    "arr1[:]"
   ]
  },
  {
   "cell_type": "code",
   "execution_count": 7,
   "metadata": {},
   "outputs": [],
   "source": [
    "arr1[:]=10"
   ]
  },
  {
   "cell_type": "code",
   "execution_count": 9,
   "metadata": {},
   "outputs": [
    {
     "data": {
      "text/plain": [
       "array([10, 20, 10, 10, 10])"
      ]
     },
     "execution_count": 9,
     "metadata": {},
     "output_type": "execute_result"
    }
   ],
   "source": [
    "arr1[1]=20\n",
    "arr1"
   ]
  },
  {
   "cell_type": "code",
   "execution_count": 5,
   "metadata": {},
   "outputs": [
    {
     "data": {
      "text/plain": [
       "(6,)"
      ]
     },
     "execution_count": 5,
     "metadata": {},
     "output_type": "execute_result"
    }
   ],
   "source": [
    "arr2=np.array([1,2,3,4,5,6])\n",
    "arr2.shape"
   ]
  },
  {
   "cell_type": "markdown",
   "metadata": {},
   "source": [
    "2D arrays"
   ]
  },
  {
   "cell_type": "code",
   "execution_count": 12,
   "metadata": {},
   "outputs": [
    {
     "data": {
      "text/plain": [
       "8"
      ]
     },
     "execution_count": 12,
     "metadata": {},
     "output_type": "execute_result"
    }
   ],
   "source": [
    "arr3=np.array([[1,2,3,4],[1,2,3,4]])\n",
    "arr3\n",
    "arr3.shape\n",
    "arr3.ndim\n",
    "arr3.size\n",
    "arr3.dtype\n"
   ]
  },
  {
   "cell_type": "code",
   "execution_count": 32,
   "metadata": {},
   "outputs": [
    {
     "data": {
      "text/plain": [
       "array([[1, 0, 0, 4],\n",
       "       [1, 0, 0, 4]])"
      ]
     },
     "execution_count": 32,
     "metadata": {},
     "output_type": "execute_result"
    }
   ],
   "source": [
    "arr3[1,3]\n",
    "arr3[0,2]=5\n",
    "arr3\n",
    "arr3[-1,-1]\n",
    "arr3[:,2]\n",
    "arr3[:,2]=[6,6]\n",
    "arr3[0:2,1:3]=0\n",
    "arr3"
   ]
  },
  {
   "cell_type": "code",
   "execution_count": 31,
   "metadata": {},
   "outputs": [
    {
     "data": {
      "text/plain": [
       "array([[ 0,  2,  0],\n",
       "       [ 2,  4,  6],\n",
       "       [ 3,  6,  9],\n",
       "       [ 4,  8, 12],\n",
       "       [ 5, 10, 15],\n",
       "       [ 6, 12, 18],\n",
       "       [ 0, 14,  0]])"
      ]
     },
     "execution_count": 31,
     "metadata": {},
     "output_type": "execute_result"
    }
   ],
   "source": [
    "arr4=np.array([[1,2,3],[2,4,6],[3,6,9],[4,8,12],[5,10,15],[6,12,18],[7,14,21]])\n",
    "arr4\n",
    "arr4.shape\n",
    "arr4[:,::2]\n",
    "arr4[::6,::2]=0\n",
    "arr4"
   ]
  },
  {
   "cell_type": "markdown",
   "metadata": {},
   "source": [
    "Advanced indexing"
   ]
  },
  {
   "cell_type": "code",
   "execution_count": 39,
   "metadata": {},
   "outputs": [
    {
     "data": {
      "text/plain": [
       "array([[255, 255, 255],\n",
       "       [255, 255, 255],\n",
       "       [  3,   6, 100],\n",
       "       [  4,   8,  12],\n",
       "       [255, 255, 255],\n",
       "       [  6,  12,  18],\n",
       "       [  0,  14, 100]])"
      ]
     },
     "execution_count": 39,
     "metadata": {},
     "output_type": "execute_result"
    }
   ],
   "source": [
    "arr4[[0,2,4,6],[0,2,0,2]]\n",
    "arr4[[0,2,4,6],[0,2,0,2]]=100\n",
    "arr4\n",
    "arr4[[0,1,4]]=255\n",
    "arr4"
   ]
  },
  {
   "cell_type": "code",
   "execution_count": 43,
   "metadata": {},
   "outputs": [
    {
     "data": {
      "text/plain": [
       "array([  0,   0,   0,   0,   0,   0,   6, 100,   4,   8,  12,   0,   0,\n",
       "         0,   6,  12,  18,   0,  14, 100])"
      ]
     },
     "execution_count": 43,
     "metadata": {},
     "output_type": "execute_result"
    }
   ],
   "source": [
    "arr4>100\n",
    "arr4[arr4>100]=0\n",
    "arr4\n",
    "arr4[arr4%2==0]"
   ]
  },
  {
   "cell_type": "code",
   "execution_count": 46,
   "metadata": {},
   "outputs": [
    {
     "data": {
      "text/plain": [
       "array([30, 78, 24, 24, 74, 42, 62, 34, 80, 10], dtype=int32)"
      ]
     },
     "execution_count": 46,
     "metadata": {},
     "output_type": "execute_result"
    }
   ],
   "source": [
    "arr5=np.random.randint(1,100,(7,3))\n",
    "arr5\n",
    "arr5[arr5%2==0]"
   ]
  },
  {
   "cell_type": "markdown",
   "metadata": {},
   "source": [
    "Homework"
   ]
  },
  {
   "cell_type": "code",
   "execution_count": 7,
   "metadata": {},
   "outputs": [
    {
     "data": {
      "text/plain": [
       "6"
      ]
     },
     "execution_count": 7,
     "metadata": {},
     "output_type": "execute_result"
    }
   ],
   "source": [
    "#boolean indexing on 1D array\n",
    "import numpy as np\n",
    "arr=np.array([12,45,7,19,34,28,90,55,63])\n",
    "#1 all elements greater than 30\n",
    "arr[arr>30]\n",
    "#2 extract all odd numbers\n",
    "arr[arr%2!=0]\n",
    "#3 replace all numbers that are multiples of 5 with -1\n",
    "arr[arr%5==0]=-1\n",
    "arr\n",
    "#4 count how mamy numbers are less than 50\n",
    "arr=np.array([12,45,7,19,34,28,90,55,63])\n",
    "arr[arr<50].size"
   ]
  },
  {
   "cell_type": "code",
   "execution_count": 8,
   "metadata": {},
   "outputs": [
    {
     "data": {
      "text/plain": [
       "5"
      ]
     },
     "execution_count": 8,
     "metadata": {},
     "output_type": "execute_result"
    }
   ],
   "source": [
    "#boolean indexing on a 2D array\n",
    "arr=np.array([[10,25,40],[55,18,72],[91,30,64]])\n",
    "#1 extract all numbers greater than 50\n",
    "arr[arr>50]\n",
    "#2 replace all even numbers with 0\n",
    "arr[arr%2==0]=0\n",
    "arr\n",
    "#3 find the sum of all numbers that are divisible by 5\n",
    "arr=np.array([[10,25,40],[55,18,72],[91,30,64]])\n",
    "sum(arr[arr%5==0])\n",
    "#4 count how many numbers are greater than 20 but less than 70\n",
    "arr=np.array([[10,25,40],[55,18,72],[91,30,64]])\n",
    "arr[(arr>20)&(arr<70)].size"
   ]
  },
  {
   "cell_type": "code",
   "execution_count": 5,
   "metadata": {},
   "outputs": [
    {
     "data": {
      "text/plain": [
       "array([[45, 67, 89],\n",
       "       [78, 90, 23],\n",
       "       [12, 34, 56]])"
      ]
     },
     "execution_count": 5,
     "metadata": {},
     "output_type": "execute_result"
    }
   ],
   "source": [
    "#fancy indexing\n",
    "arr=np.array([[12,34,56],[78,90,23],[45,67,89]])\n",
    "arr\n",
    "#1 extract elements from first and third row\n",
    "arr[::2,::]\n",
    "#2 extract second coloumn from the array\n",
    "arr[::,1]\n",
    "#3 extract specific elements 12,90,67 using advanced indexing\n",
    "arr[[0,1,2],[0,1,1]]\n",
    "#4 swap the first and last row of the array\n",
    "arr=np.array([[12,34,56],[78,90,23],[45,67,89]])\n",
    "arr[[0,2]]=arr[[2,0]]\n",
    "arr\n"
   ]
  },
  {
   "cell_type": "code",
   "execution_count": 9,
   "metadata": {},
   "outputs": [
    {
     "data": {
      "text/plain": [
       "array([35, 45, 55, 65, 75, 85])"
      ]
     },
     "execution_count": 9,
     "metadata": {},
     "output_type": "execute_result"
    }
   ],
   "source": [
    "#mixing boolean and fancy indexing\n",
    "import numpy as np\n",
    "arr=np.array([[5,15,25],[35,45,55],[65,75,85]])\n",
    "arr\n",
    "#1 extract all numbers that are multiples of 5 and greater than 30\n",
    "arr[(arr%5==0)&(arr>30)]\n",
    "#2 replace all numbers less than 50 with -1\n",
    "arr[arr<50]=-1\n",
    "arr\n",
    "#3 extract the last column and replace all vsalues with 100\n",
    "arr=np.array([[5,15,25],[35,45,55],[65,75,85]])\n",
    "arr[::,-1]=100\n",
    "arr\n",
    "#4 create a new array where all values geater than 60 are doubled\n",
    "arr=np.array([[5,15,25],[35,45,55],[65,75,85]])\n",
    "arr[arr>60]=arr[arr>60]*2\n",
    "arr"
   ]
  },
  {
   "cell_type": "code",
   "execution_count": 22,
   "metadata": {},
   "outputs": [
    {
     "data": {
      "text/plain": [
       "array([2, 2, 2])"
      ]
     },
     "execution_count": 22,
     "metadata": {},
     "output_type": "execute_result"
    }
   ],
   "source": [
    "#sum\n",
    "arr=np.array([[5,15,25],[35,45,55],[65,75,85]])\n",
    "np.sum(arr)\n",
    "np.sum(arr,axis=1)\n",
    "np.sum(arr,axis=0)\n",
    "#min\n",
    "np.min(arr)\n",
    "np.min(arr,axis=1)\n",
    "np.min(arr,axis=0)\n",
    "#max\n",
    "np.max(arr)\n",
    "np.max(arr,axis=1)\n",
    "np.max(arr,axis=0)\n",
    "#mean\n",
    "#median\n",
    "#std\n",
    "#var\n",
    "#argmax\n",
    "np.argmax(arr)\n",
    "np.argmax(arr,axis=1)\n",
    "np.argmax(arr,axis=0)\n",
    "#argmin"
   ]
  },
  {
   "cell_type": "code",
   "execution_count": 35,
   "metadata": {},
   "outputs": [
    {
     "data": {
      "text/plain": [
       "array([[0., 0., 0., 0., 0., 0., 0., 0., 0., 0., 0., 0., 0., 0., 0., 0.,\n",
       "        0., 0., 0., 0., 0., 0., 0., 0., 0., 0., 0., 0., 0., 0., 0., 0.,\n",
       "        0., 0., 0., 0., 0., 0., 0., 0., 0., 0., 0., 0., 0., 0., 0., 0.,\n",
       "        0., 0.]])"
      ]
     },
     "execution_count": 35,
     "metadata": {},
     "output_type": "execute_result"
    }
   ],
   "source": [
    "\n",
    "#zeros\n",
    "arr=np.zeros((10,5))\n",
    "#ones\n",
    "np.ones((4,4))\n",
    "#full\n",
    "np.full((5,7),8)\n",
    "#full_like\n",
    "np.full_like(arr,9)\n",
    "#arange\n",
    "np.arange(1,11,2)\n",
    "b=np.arange(100,0,-1)\n",
    "#reshape\n",
    "b.reshape((10,10))\n",
    "np.reshape(arr,(1,50))\n"
   ]
  },
  {
   "cell_type": "code",
   "execution_count": null,
   "metadata": {},
   "outputs": [],
   "source": []
  }
 ],
 "metadata": {
  "kernelspec": {
   "display_name": "Python 3",
   "language": "python",
   "name": "python3"
  },
  "language_info": {
   "codemirror_mode": {
    "name": "ipython",
    "version": 3
   },
   "file_extension": ".py",
   "mimetype": "text/x-python",
   "name": "python",
   "nbconvert_exporter": "python",
   "pygments_lexer": "ipython3",
   "version": "undefined.undefined.undefined"
  }
 },
 "nbformat": 4,
 "nbformat_minor": 2
}
